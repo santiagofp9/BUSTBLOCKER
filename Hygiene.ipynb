{
 "cells": [
  {
   "cell_type": "code",
   "execution_count": 1,
   "id": "267b0b75",
   "metadata": {},
   "outputs": [],
   "source": [
    "#In this file I'll clean the different files. \n",
    "#Then I'll evaluate the potential relations among the records."
   ]
  },
  {
   "cell_type": "code",
   "execution_count": 2,
   "id": "2c048438",
   "metadata": {},
   "outputs": [],
   "source": [
    "#import import_ipynb\n",
    "import pandas as pd\n",
    "pd.set_option('display.max_columns', None)\n",
    "\n",
    "import numpy as np\n",
    "\n",
    "import warnings\n",
    "warnings.filterwarnings('ignore')\n",
    "\n",
    "#Wenders level 4K graphics.\n",
    "import pylab as plt\n",
    "import seaborn as sns\n",
    "\n",
    "#This make the graph possible\n",
    "%matplotlib inline\n",
    "\n",
    "#Functions\n",
    "from src.funk import Funk "
   ]
  },
  {
   "cell_type": "code",
   "execution_count": 3,
   "id": "de4dc43f",
   "metadata": {},
   "outputs": [],
   "source": [
    "##A general overview has already been done on the raw csv files.\n",
    "#I'll start by dropping update columns and language related data since there are only english spoken content. "
   ]
  },
  {
   "cell_type": "code",
   "execution_count": 4,
   "id": "50e82cb6",
   "metadata": {
    "scrolled": true
   },
   "outputs": [],
   "source": [
    "#Loading data\n",
    "\n",
    "actor = pd.read_csv('data/actor.csv', encoding= \"ISO-8859-1\")\n",
    "category = pd.read_csv('data/category.csv', encoding= \"ISO-8859-1\")\n",
    "film = pd.read_csv('data/film.csv', encoding= \"ISO-8859-1\")\n",
    "inventory = pd.read_csv('data/inventory.csv', encoding= \"ISO-8859-1\")\n",
    "old_HDD = pd.read_csv('data/old_HDD.csv', encoding= \"ISO-8859-1\")\n",
    "rental = pd.read_csv('data/rental.csv', encoding= \"ISO-8859-1\")"
   ]
  },
  {
   "cell_type": "code",
   "execution_count": 5,
   "id": "cd53bdd5",
   "metadata": {},
   "outputs": [],
   "source": [
    "del actor['last_update']\n",
    "del category['last_update']\n",
    "del inventory['last_update']\n",
    "del rental['last_update']"
   ]
  },
  {
   "cell_type": "code",
   "execution_count": 6,
   "id": "c8e49b30",
   "metadata": {},
   "outputs": [],
   "source": [
    "film.drop(['language_id', 'original_language_id', 'last_update'], axis=1, inplace=True)"
   ]
  },
  {
   "cell_type": "code",
   "execution_count": 7,
   "id": "a93c3aee",
   "metadata": {},
   "outputs": [],
   "source": [
    "#Dataframes were checked for null values, they seem clean.\n",
    "#All the info in them seems useful, time to relate it and build a database.\n",
    "#actor.shape 200,3\n",
    "#category.shape 16,2\n",
    "#film.shape 1000,10\n",
    "#inventory.shape 1000,3\n",
    "#old_HDD.shape 1000,5\n",
    "#rental.shape 1000,6"
   ]
  },
  {
   "cell_type": "code",
   "execution_count": 8,
   "id": "b37370c4",
   "metadata": {},
   "outputs": [],
   "source": [
    "#From a quick overview and my assumption I can relate 2 general groups of info:\n",
    "\n",
    "#Given_data, as in actor, category and film. This data is true regardless of the business, and won't change.\n",
    "#Created__data as in inventory, old_HDD and rental. This is business history, and will fluctuate ahead.\n",
    "#Probably as of now, film and inventory are matching, since both have 1K records. \n",
    "#The zip among those two could very well be the bridge for all data.\n",
    "\n",
    "#Drawing time. "
   ]
  },
  {
   "cell_type": "code",
   "execution_count": 9,
   "id": "274035e4",
   "metadata": {},
   "outputs": [],
   "source": [
    "#Contrary of the initial thought, film cannot relate category and actor.\n",
    "\n",
    "#inventory shows there are two stores, each with half the movies.\n",
    "#inventory also shows there are 1000 dvds, but only 207 unique titles.\n",
    "\n",
    "#rental shows that the staff counts 2 entities, each renting more or less half the volume.\n",
    "#rental shows there are 485 customers, they have rented in a range 8 to 1, 75% of them have rented less than 3.\n",
    "\n",
    "#oldHDD will just be merged with film and that will be the database core."
   ]
  },
  {
   "cell_type": "code",
   "execution_count": 10,
   "id": "8b312e97",
   "metadata": {},
   "outputs": [],
   "source": [
    "actor['name'] = actor['first_name'] +' '+ actor['last_name']\n",
    "old_HDD['name'] = old_HDD['first_name'] +' '+ old_HDD['last_name']\n",
    "actor.drop(['first_name', 'last_name'], axis=1, inplace=True)\n",
    "old_HDD.drop(['first_name', 'last_name'], axis=1, inplace=True)"
   ]
  },
  {
   "cell_type": "code",
   "execution_count": 11,
   "id": "5d3d4527",
   "metadata": {},
   "outputs": [],
   "source": [
    "#film has 1000 unique id and title\n",
    "#old_HDD has 614 unique title, 39 unique actor name\n",
    "#from old_HDD, film is missing the category.\n",
    "#old_HDD will be used to create the new table with film_id and actor_id\n",
    "\n",
    "film2 = pd.merge(film, old_HDD, how=\"left\", on=[\"title\"])\n",
    "film2.drop(['release_year_y', 'name'], axis=1, inplace=True)\n",
    "film2 = film2.drop_duplicates()\n",
    "old_HDD.drop(['release_year', 'category_id'], axis=1, inplace=True)"
   ]
  },
  {
   "cell_type": "code",
   "execution_count": 12,
   "id": "64ec19d1",
   "metadata": {},
   "outputs": [],
   "source": [
    "tit_id = film[['film_id', 'title']]\n",
    "act_id = actor[['actor_id', 'name']]\n",
    "\n",
    "merg1 = pd.merge(old_HDD, tit_id, how=\"left\", on=[\"title\"])\n",
    "merg2 = pd.merge(merg1, act_id, how=\"left\", on=[\"name\"])\n",
    "merg2.drop(['title', 'name'], axis=1, inplace=True)\n",
    "title_actor = merg2.drop_duplicates()\n",
    "\n",
    "#614 unique title achieved, the one with more actors has 6, the less 1\n",
    "#39 unique actors, the one on more titles is on 37, the less on 7\n",
    "#title_actor['film_id'].value_counts()\n",
    "#title_actor['actor_id'].value_counts()"
   ]
  },
  {
   "cell_type": "code",
   "execution_count": 13,
   "id": "710de609",
   "metadata": {},
   "outputs": [],
   "source": [
    "#Cleaning category Nan\n",
    "category.loc[17] = [17, 'Unknown']\n",
    "film2['category_id'].fillna(17, inplace=True)"
   ]
  },
  {
   "cell_type": "code",
   "execution_count": 14,
   "id": "298823b6",
   "metadata": {},
   "outputs": [],
   "source": [
    "cinefilo = rental.customer_id.value_counts()\n",
    "stats = cinefilo.describe()\n",
    "stats['IQR'] = stats['75%'] - stats['25%']\n",
    "#stats"
   ]
  },
  {
   "cell_type": "code",
   "execution_count": 15,
   "id": "a2073784",
   "metadata": {},
   "outputs": [
    {
     "name": "stdout",
     "output_type": "stream",
     "text": [
      "<class 'pandas.core.frame.DataFrame'>\n",
      "Int64Index: 1000 entries, 0 to 1385\n",
      "Data columns (total 11 columns):\n",
      " #   Column            Non-Null Count  Dtype  \n",
      "---  ------            --------------  -----  \n",
      " 0   film_id           1000 non-null   int64  \n",
      " 1   title             1000 non-null   object \n",
      " 2   description       1000 non-null   object \n",
      " 3   release_year_x    1000 non-null   int64  \n",
      " 4   rental_duration   1000 non-null   int64  \n",
      " 5   rental_rate       1000 non-null   float64\n",
      " 6   length            1000 non-null   int64  \n",
      " 7   replacement_cost  1000 non-null   float64\n",
      " 8   rating            1000 non-null   object \n",
      " 9   special_features  1000 non-null   object \n",
      " 10  category_id       1000 non-null   float64\n",
      "dtypes: float64(3), int64(4), object(4)\n",
      "memory usage: 93.8+ KB\n"
     ]
    }
   ],
   "source": [
    "film2.info()"
   ]
  },
  {
   "cell_type": "code",
   "execution_count": 16,
   "id": "85787469",
   "metadata": {},
   "outputs": [
    {
     "data": {
      "text/html": [
       "<div>\n",
       "<style scoped>\n",
       "    .dataframe tbody tr th:only-of-type {\n",
       "        vertical-align: middle;\n",
       "    }\n",
       "\n",
       "    .dataframe tbody tr th {\n",
       "        vertical-align: top;\n",
       "    }\n",
       "\n",
       "    .dataframe thead th {\n",
       "        text-align: right;\n",
       "    }\n",
       "</style>\n",
       "<table border=\"1\" class=\"dataframe\">\n",
       "  <thead>\n",
       "    <tr style=\"text-align: right;\">\n",
       "      <th></th>\n",
       "      <th>film_id</th>\n",
       "      <th>title</th>\n",
       "      <th>description</th>\n",
       "      <th>release_year_x</th>\n",
       "      <th>rental_duration</th>\n",
       "      <th>rental_rate</th>\n",
       "      <th>length</th>\n",
       "      <th>replacement_cost</th>\n",
       "      <th>rating</th>\n",
       "      <th>special_features</th>\n",
       "      <th>category_id</th>\n",
       "    </tr>\n",
       "  </thead>\n",
       "  <tbody>\n",
       "    <tr>\n",
       "      <th>0</th>\n",
       "      <td>1</td>\n",
       "      <td>ACADEMY DINOSAUR</td>\n",
       "      <td>A Epic Drama of a Feminist And a Mad Scientist...</td>\n",
       "      <td>2006</td>\n",
       "      <td>6</td>\n",
       "      <td>0.99</td>\n",
       "      <td>86</td>\n",
       "      <td>20.99</td>\n",
       "      <td>PG</td>\n",
       "      <td>Deleted Scenes,Behind the Scenes</td>\n",
       "      <td>6.0</td>\n",
       "    </tr>\n",
       "    <tr>\n",
       "      <th>4</th>\n",
       "      <td>2</td>\n",
       "      <td>ACE GOLDFINGER</td>\n",
       "      <td>A Astounding Epistle of a Database Administrat...</td>\n",
       "      <td>2006</td>\n",
       "      <td>3</td>\n",
       "      <td>4.99</td>\n",
       "      <td>48</td>\n",
       "      <td>12.99</td>\n",
       "      <td>G</td>\n",
       "      <td>Trailers,Deleted Scenes</td>\n",
       "      <td>11.0</td>\n",
       "    </tr>\n",
       "    <tr>\n",
       "      <th>5</th>\n",
       "      <td>3</td>\n",
       "      <td>ADAPTATION HOLES</td>\n",
       "      <td>A Astounding Reflection of a Lumberjack And a ...</td>\n",
       "      <td>2006</td>\n",
       "      <td>7</td>\n",
       "      <td>2.99</td>\n",
       "      <td>50</td>\n",
       "      <td>18.99</td>\n",
       "      <td>NC-17</td>\n",
       "      <td>Trailers,Deleted Scenes</td>\n",
       "      <td>6.0</td>\n",
       "    </tr>\n",
       "    <tr>\n",
       "      <th>8</th>\n",
       "      <td>4</td>\n",
       "      <td>AFFAIR PREJUDICE</td>\n",
       "      <td>A Fanciful Documentary of a Frisbee And a Lumb...</td>\n",
       "      <td>2006</td>\n",
       "      <td>5</td>\n",
       "      <td>2.99</td>\n",
       "      <td>117</td>\n",
       "      <td>26.99</td>\n",
       "      <td>G</td>\n",
       "      <td>Commentaries,Behind the Scenes</td>\n",
       "      <td>17.0</td>\n",
       "    </tr>\n",
       "    <tr>\n",
       "      <th>9</th>\n",
       "      <td>5</td>\n",
       "      <td>AFRICAN EGG</td>\n",
       "      <td>A Fast-Paced Documentary of a Pastry Chef And ...</td>\n",
       "      <td>2006</td>\n",
       "      <td>6</td>\n",
       "      <td>2.99</td>\n",
       "      <td>130</td>\n",
       "      <td>22.99</td>\n",
       "      <td>G</td>\n",
       "      <td>Deleted Scenes</td>\n",
       "      <td>17.0</td>\n",
       "    </tr>\n",
       "  </tbody>\n",
       "</table>\n",
       "</div>"
      ],
      "text/plain": [
       "   film_id             title  \\\n",
       "0        1  ACADEMY DINOSAUR   \n",
       "4        2    ACE GOLDFINGER   \n",
       "5        3  ADAPTATION HOLES   \n",
       "8        4  AFFAIR PREJUDICE   \n",
       "9        5       AFRICAN EGG   \n",
       "\n",
       "                                         description  release_year_x  \\\n",
       "0  A Epic Drama of a Feminist And a Mad Scientist...            2006   \n",
       "4  A Astounding Epistle of a Database Administrat...            2006   \n",
       "5  A Astounding Reflection of a Lumberjack And a ...            2006   \n",
       "8  A Fanciful Documentary of a Frisbee And a Lumb...            2006   \n",
       "9  A Fast-Paced Documentary of a Pastry Chef And ...            2006   \n",
       "\n",
       "   rental_duration  rental_rate  length  replacement_cost rating  \\\n",
       "0                6         0.99      86             20.99     PG   \n",
       "4                3         4.99      48             12.99      G   \n",
       "5                7         2.99      50             18.99  NC-17   \n",
       "8                5         2.99     117             26.99      G   \n",
       "9                6         2.99     130             22.99      G   \n",
       "\n",
       "                   special_features  category_id  \n",
       "0  Deleted Scenes,Behind the Scenes          6.0  \n",
       "4           Trailers,Deleted Scenes         11.0  \n",
       "5           Trailers,Deleted Scenes          6.0  \n",
       "8    Commentaries,Behind the Scenes         17.0  \n",
       "9                    Deleted Scenes         17.0  "
      ]
     },
     "execution_count": 16,
     "metadata": {},
     "output_type": "execute_result"
    }
   ],
   "source": [
    "film2.head()"
   ]
  },
  {
   "cell_type": "code",
   "execution_count": 17,
   "id": "fd35ab2a",
   "metadata": {},
   "outputs": [],
   "source": [
    "#Data cleaning seams ready, the next file will construct the database.\n",
    "#Exporting data"
   ]
  },
  {
   "cell_type": "code",
   "execution_count": 18,
   "id": "fcf1639a",
   "metadata": {},
   "outputs": [],
   "source": [
    "category.to_csv('data/category_clean.csv', index=False)\n",
    "actor.to_csv('data/actor_clean.csv', index=False)\n",
    "rental.to_csv('data/rental_clean.csv', index=False)\n",
    "inventory.to_csv('data/inventory_clean.csv', index=False)\n",
    "film2.to_csv('data/film_clean.csv', index=False)\n",
    "title_actor.to_csv('data/title_actor.csv', index=False)"
   ]
  },
  {
   "cell_type": "code",
   "execution_count": null,
   "id": "7d3911b9",
   "metadata": {},
   "outputs": [],
   "source": []
  }
 ],
 "metadata": {
  "kernelspec": {
   "display_name": "Python 3 (ipykernel)",
   "language": "python",
   "name": "python3"
  },
  "language_info": {
   "codemirror_mode": {
    "name": "ipython",
    "version": 3
   },
   "file_extension": ".py",
   "mimetype": "text/x-python",
   "name": "python",
   "nbconvert_exporter": "python",
   "pygments_lexer": "ipython3",
   "version": "3.9.15"
  }
 },
 "nbformat": 4,
 "nbformat_minor": 5
}
